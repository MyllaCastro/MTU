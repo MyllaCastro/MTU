{
  "cells": [
    {
      "attachments": {},
      "cell_type": "markdown",
      "metadata": {},
      "source": [
        "> **Student Name:** Mylla Pereira de Castro\n",
        ">\n",
        "> **Student Number:** T00244395\n",
        "\n",
        "\n"
      ]
    },
    {
      "attachments": {},
      "cell_type": "markdown",
      "metadata": {
        "id": "9f8rIb1E6dQS"
      },
      "source": [
        "# **Stage 1**\n",
        "***Describe Data***"
      ]
    },
    {
      "attachments": {},
      "cell_type": "markdown",
      "metadata": {},
      "source": [
        "The dataset used as part of this assignment contains global surface temperature changes collected monthly from 1961 to 2022 and currently available in FAOSTAT website. FAO (Food and Agriculture Organization) is an United Nation's agency and collects and distributes data with the goal of defeating global hunger.\n",
        "\n",
        "The temperature change on land statistics data is updated annually with data sourced from GISTEMP data, the Global Surface Temperature Change data distributed by National Aeronaitics and Space Administration Goddard Institue for Space Studies (NASA-GISS). The temperature change is calculated in respect to a baseline climatology corresponding to the period of 1951 to 1980.\n",
        "\n",
        "This dataset contains the following columns:\n",
        "\n",
        ">**Domain Code:** The numerical code of the domain column (integer)\n",
        ">\n",
        ">**Domain:** Category of the collected data (object)\n",
        ">\n",
        ">**Area Code:** The numerical code of the area column (integer)\n",
        ">\n",
        ">**Area:** Countries and territorries (object)\n",
        ">\n",
        ">**Months Code:** The numerical code of months column (integer)\n",
        ">\n",
        ">**Months:** Months (object)\n",
        ">\n",
        ">**Years Code:** The numerical code of years column (integer)\n",
        ">\n",
        ">**Years:** Years, Metereological year (object)\n",
        ">\n",
        ">**Element Code:** The numerical code of element column (integer)\n",
        ">\n",
        ">**Element:** \"Temperature change\" or \"Standard Deviation\" (object)\n",
        ">\n",
        ">**Unit:** Celsius degree °C (object)\n",
        ">\n",
        ">**Value** Columns with numerical representation of Element from 1961 to 2022\n",
        "\n",
        "\n",
        "Let's exam the data a bit closer!"
      ]
    },
    {
      "cell_type": "code",
      "execution_count": 944,
      "metadata": {},
      "outputs": [],
      "source": [
        "# Importing libraries (make sure these libraries are installed in the runtime)\n",
        "import pandas as pd\n",
        "import seaborn as sns\n",
        "import matplotlib.pyplot as plt\n",
        "from sklearn.model_selection import train_test_split\n",
        "from sklearn.linear_model import LinearRegression\n",
        "from sklearn.linear_model import ElasticNet\n",
        "from sklearn.linear_model import Lasso\n",
        "from sklearn.preprocessing import StandardScaler\n",
        "from sklearn.metrics import mean_squared_error, r2_score\n",
        "import numpy as np\n",
        "from sklearn.linear_model import Ridge\n",
        "from sklearn.pipeline import make_pipeline"
      ]
    },
    {
      "cell_type": "code",
      "execution_count": 945,
      "metadata": {
        "id": "uY1dExPehLAq"
      },
      "outputs": [
        {
          "name": "stdout",
          "output_type": "stream",
          "text": [
            "Dataframe shape: (238051, 14)\n"
          ]
        }
      ],
      "source": [
        "# Importing the data\n",
        "temp_change_path = \"./FAOSTAT_data_2023.csv\"\n",
        "temp_change_df = pd.read_csv(temp_change_path)\n",
        "\n",
        "\n",
        "# Dataframe shape\n",
        "print(f'Dataframe shape: {temp_change_df.shape}')"
      ]
    },
    {
      "cell_type": "code",
      "execution_count": 946,
      "metadata": {},
      "outputs": [
        {
          "name": "stdout",
          "output_type": "stream",
          "text": [
            "Dataframe description: \n",
            "        Area Code (M49)  Element Code    Months Code      Year Code  \\\n",
            "count    238051.000000      238051.0  238051.000000  238051.000000   \n",
            "mean        434.274655        7271.0    7009.882353    1992.336928   \n",
            "std         254.701748           0.0       6.037955      17.895595   \n",
            "min           4.000000        7271.0    7001.000000    1961.000000   \n",
            "25%         212.000000        7271.0    7005.000000    1977.000000   \n",
            "50%         430.000000        7271.0    7009.000000    1993.000000   \n",
            "75%         654.000000        7271.0    7016.000000    2008.000000   \n",
            "max         894.000000        7271.0    7020.000000    2022.000000   \n",
            "\n",
            "                Year          Value  \n",
            "count  238051.000000  229855.000000  \n",
            "mean     1992.336928       0.525593  \n",
            "std        17.895595       1.043814  \n",
            "min      1961.000000      -9.191000  \n",
            "25%      1977.000000      -0.051000  \n",
            "50%      1993.000000       0.453000  \n",
            "75%      2008.000000       1.039000  \n",
            "max      2022.000000      11.757000  \n"
          ]
        }
      ],
      "source": [
        "# Dataframe description\n",
        "print(f'Dataframe description: \\n {temp_change_df.describe()}')"
      ]
    },
    {
      "cell_type": "code",
      "execution_count": 947,
      "metadata": {},
      "outputs": [
        {
          "data": {
            "image/png": "[encoded data removed]",
            "text/plain": [
              "<Figure size 432x288 with 1 Axes>"
            ]
          },
          "metadata": {
            "needs_background": "light"
          },
          "output_type": "display_data"
        }
      ],
      "source": [
        "# Plotting the data to visualise the temperature change in land over the years in the world\n",
        "\n",
        "# Group the data by year and calculate the mean temperature for each year\n",
        "df_yearly = temp_change_df.groupby(['Year'])['Value'].mean().reset_index()\n",
        "\n",
        "# Plot temperature data as a line plot\n",
        "plt.plot(df_yearly['Year'], df_yearly['Value'], marker='o')\n",
        "\n",
        "# Set the plot title and axis labels\n",
        "plt.title('World Yearly Average Temperature Change')\n",
        "plt.xlabel('Year')\n",
        "plt.ylabel('Temperature (unit)')\n",
        "\n",
        "# Display the plot\n",
        "plt.show()"
      ]
    },
    {
      "cell_type": "code",
      "execution_count": 948,
      "metadata": {},
      "outputs": [
        {
          "name": "stdout",
          "output_type": "stream",
          "text": [
            "Average of temperature change on land over the years 0.509437575703311\n",
            "Countries with highest and lowest average of temperature change on land over the years Area\n",
            "Luxembourg                         1.584657\n",
            "Serbia                             1.552727\n",
            "Estonia                            1.549899\n",
            "Belgium                            1.525731\n",
            "Russian Federation                 1.514425\n",
            "                                     ...   \n",
            "Pacific Islands Trust Territory    0.054901\n",
            "Falkland Islands (Malvinas)        0.021628\n",
            "Yugoslav SFR                       0.019567\n",
            "Nauru                             -0.024839\n",
            "Pitcairn                          -0.098580\n",
            "Name: Value, Length: 247, dtype: float64\n"
          ]
        }
      ],
      "source": [
        "# Let's get the numeric average of temperature increase in the world\n",
        "print(f'Average of temperature change on land over the years {df_yearly[\"Value\"].mean()}')\n",
        "\n",
        "# Get countries with the highest and lowest temperature change mean since 1961\n",
        "temp_amp_all = temp_change_df.groupby(['Area'])['Value'].mean().sort_values(ascending=False)\n",
        "print(f'Countries with highest and lowest average of temperature change on land over the years {temp_amp_all}')\n"
      ]
    },
    {
      "cell_type": "code",
      "execution_count": 949,
      "metadata": {},
      "outputs": [
        {
          "name": "stdout",
          "output_type": "stream",
          "text": [
            "Countries with highest and lowest average of temperature change on land over the years Area\n",
            "Svalbard and Jan Mayen Islands    3.306371\n",
            "Estonia                           2.198871\n",
            "Belarus                           2.180859\n",
            "Russian Federation                2.178324\n",
            "Finland                           2.148653\n",
            "                                    ...   \n",
            "Nauru                                  NaN\n",
            "Niue                                   NaN\n",
            "Pitcairn                               NaN\n",
            "Tokelau                                NaN\n",
            "Yemen                                  NaN\n",
            "Name: Value, Length: 239, dtype: float64\n"
          ]
        }
      ],
      "source": [
        "# Get countries with the highest and lowest temperature change mean since 2013\n",
        "\n",
        "temp_s_2013 = temp_change_df[temp_change_df['Year'] >= 2013].groupby(['Area'])['Value'].mean().sort_values(ascending=False)\n",
        "print(f'Countries with highest and lowest average of temperature change on land over the years {temp_s_2013}')"
      ]
    },
    {
      "attachments": {},
      "cell_type": "markdown",
      "metadata": {},
      "source": [
        "Remembering that the data above is simpling the average of temperature change on land in relation to a baseline. The highest temperature change collected by FAO was in \"Svalbard and Jan Mayen Islands\" in 2014. These territorries are part of a Norwegian archipelago in the Artic and in [2022 the Norwegian Polar Institute](https://www.bbc.com/news/world-europe-63387233) calculated that Longyearbyen (located in Svalbard archipelago) is heating six times faster than the global average.\n",
        "\n",
        "Also, it's worth mentioning that the countries with highest and lowest temperature changes on land vary significantly as per above. If we were to dive deeper on this analysis, we could spot some interesting findings in relation to countries that have lower/higher temperature changes in the last years and what initiatives, natural or political events might have affected that. "
      ]
    },
    {
      "cell_type": "code",
      "execution_count": 950,
      "metadata": {},
      "outputs": [
        {
          "name": "stderr",
          "output_type": "stream",
          "text": [
            "/var/folders/w3/5k38nc1d35zbfg1ff2_nj_rh0000gn/T/ipykernel_44987/333077318.py:2: FutureWarning: The default value of numeric_only in DataFrame.corr is deprecated. In a future version, it will default to False. Select only valid columns or specify the value of numeric_only to silence this warning.\n",
            "  sns.heatmap(temp_change_df.corr(), annot=True)\n"
          ]
        },
        {
          "data": {
            "image/png": "[encoded data removed]",
            "text/plain": [
              "<Figure size 432x288 with 2 Axes>"
            ]
          },
          "metadata": {
            "needs_background": "light"
          },
          "output_type": "display_data"
        }
      ],
      "source": [
        "# Correlating data features\n",
        "sns.heatmap(temp_change_df.corr(), annot=True)\n",
        "plt.show()\n",
        "\n",
        "# Highest correlation is between the Year and Value columns, which are the main ones used in this analysis"
      ]
    },
    {
      "attachments": {},
      "cell_type": "markdown",
      "metadata": {
        "id": "ZYY0zY7l60al"
      },
      "source": [
        "# **Stage 2**\n",
        "\n",
        "There is a number of renowed institutions that work on collecting, analysing and even projecting temperature changes over the next decades using climate models.\n",
        "\n",
        "Climate change is an extremely important subject that I believe will be news spotlight for a long time around global levels initiatives to tackle latent problems and warn the general population of the impacts this generation is already facing.\n",
        "\n",
        "[The Paris Agreement](https://unfccc.int/process-and-meetings/the-paris-agreement) on climate change is an attempt to hold “the increase in the global average temperature to well below 2°C above pre-industrial levels” and pursue efforts “to limit the temperature increase to 1.5°C above pre-industrial levels” globally.\n",
        "\n",
        "By analysing the Food and Agriculture Organization of the United Nations (FAO) data on temperature changes on land, my goal is to build a model with that can be used to predict temperatures over the next years."
      ]
    },
    {
      "cell_type": "markdown",
      "metadata": {},
      "source": []
    },
    {
      "cell_type": "markdown",
      "metadata": {
        "id": "OeanY09K69Le"
      },
      "source": [
        "# **Stage 3**\n",
        "\n",
        "Cleaning the data, linking datasets etc.. \n",
        "\n"
      ]
    },
    {
      "cell_type": "code",
      "execution_count": 951,
      "metadata": {
        "id": "XMIxIidZhMGl"
      },
      "outputs": [
        {
          "data": {
            "text/plain": [
              "Area         0\n",
              "Months       0\n",
              "Year         0\n",
              "Unit         0\n",
              "Value     8196\n",
              "dtype: int64"
            ]
          },
          "execution_count": 951,
          "metadata": {},
          "output_type": "execute_result"
        }
      ],
      "source": [
        "# Removing irrelevant columns\n",
        "temp_change_df.drop(['Domain Code', 'Domain', 'Area Code (M49)', 'Element Code', 'Months Code', 'Year Code', 'Flag', 'Flag Description', 'Element'], axis=1, inplace=True)\n",
        "\n",
        "# Removing duplicates\n",
        "temp_change_df.drop_duplicates()\n",
        "\n",
        "# Number of nulls in each column\n",
        "temp_change_df.isnull().sum()"
      ]
    },
    {
      "cell_type": "code",
      "execution_count": 952,
      "metadata": {},
      "outputs": [
        {
          "name": "stdout",
          "output_type": "stream",
          "text": [
            "True\n"
          ]
        }
      ],
      "source": [
        "# Let's see if all rows \"Unit\" is in Celsius\n",
        "print((temp_change_df['Unit'] == '°C').sum() == temp_change_df.shape[0])\n"
      ]
    },
    {
      "cell_type": "code",
      "execution_count": 953,
      "metadata": {},
      "outputs": [
        {
          "name": "stdout",
          "output_type": "stream",
          "text": [
            "Average of temperature change over the years 0.509437575703311\n",
            "Average of temperature change over the years 0.509437575703311\n"
          ]
        }
      ],
      "source": [
        "print(f'Average of temperature change over the years {df_yearly[\"Value\"].mean()}')\n",
        "\n",
        "# Now, since there are 8196 rows without a \"Value\" column is less than 5% of the data, I will drop these and see if there's any significant change in the world's temperature change average\n",
        "temp_change_df = temp_change_df.dropna()\n",
        "\n",
        "print(f'Average of temperature change over the years {df_yearly[\"Value\"].mean()}')\n",
        "\n",
        "# The overall mean hasn't changed, we should be good to proceed"
      ]
    },
    {
      "cell_type": "code",
      "execution_count": 954,
      "metadata": {},
      "outputs": [
        {
          "data": {
            "text/html": [
              "<div>\n",
              "<style scoped>\n",
              "    .dataframe tbody tr th:only-of-type {\n",
              "        vertical-align: middle;\n",
              "    }\n",
              "\n",
              "    .dataframe tbody tr th {\n",
              "        vertical-align: top;\n",
              "    }\n",
              "\n",
              "    .dataframe thead th {\n",
              "        text-align: right;\n",
              "    }\n",
              "</style>\n",
              "<table border=\"1\" class=\"dataframe\">\n",
              "  <thead>\n",
              "    <tr style=\"text-align: right;\">\n",
              "      <th></th>\n",
              "      <th>Area</th>\n",
              "      <th>Months</th>\n",
              "      <th>Year</th>\n",
              "      <th>Unit</th>\n",
              "      <th>Value</th>\n",
              "      <th>Area Encoded</th>\n",
              "      <th>Month Encoded</th>\n",
              "    </tr>\n",
              "  </thead>\n",
              "  <tbody>\n",
              "    <tr>\n",
              "      <th>0</th>\n",
              "      <td>Afghanistan</td>\n",
              "      <td>January</td>\n",
              "      <td>1961</td>\n",
              "      <td>°C</td>\n",
              "      <td>0.756</td>\n",
              "      <td>0</td>\n",
              "      <td>5</td>\n",
              "    </tr>\n",
              "    <tr>\n",
              "      <th>1</th>\n",
              "      <td>Afghanistan</td>\n",
              "      <td>January</td>\n",
              "      <td>1962</td>\n",
              "      <td>°C</td>\n",
              "      <td>0.030</td>\n",
              "      <td>0</td>\n",
              "      <td>5</td>\n",
              "    </tr>\n",
              "    <tr>\n",
              "      <th>2</th>\n",
              "      <td>Afghanistan</td>\n",
              "      <td>January</td>\n",
              "      <td>1963</td>\n",
              "      <td>°C</td>\n",
              "      <td>2.716</td>\n",
              "      <td>0</td>\n",
              "      <td>5</td>\n",
              "    </tr>\n",
              "    <tr>\n",
              "      <th>3</th>\n",
              "      <td>Afghanistan</td>\n",
              "      <td>January</td>\n",
              "      <td>1964</td>\n",
              "      <td>°C</td>\n",
              "      <td>-5.260</td>\n",
              "      <td>0</td>\n",
              "      <td>5</td>\n",
              "    </tr>\n",
              "    <tr>\n",
              "      <th>4</th>\n",
              "      <td>Afghanistan</td>\n",
              "      <td>January</td>\n",
              "      <td>1965</td>\n",
              "      <td>°C</td>\n",
              "      <td>1.834</td>\n",
              "      <td>0</td>\n",
              "      <td>5</td>\n",
              "    </tr>\n",
              "    <tr>\n",
              "      <th>...</th>\n",
              "      <td>...</td>\n",
              "      <td>...</td>\n",
              "      <td>...</td>\n",
              "      <td>...</td>\n",
              "      <td>...</td>\n",
              "      <td>...</td>\n",
              "      <td>...</td>\n",
              "    </tr>\n",
              "    <tr>\n",
              "      <th>238046</th>\n",
              "      <td>Zimbabwe</td>\n",
              "      <td>Meteorological year</td>\n",
              "      <td>2018</td>\n",
              "      <td>°C</td>\n",
              "      <td>0.453</td>\n",
              "      <td>246</td>\n",
              "      <td>12</td>\n",
              "    </tr>\n",
              "    <tr>\n",
              "      <th>238047</th>\n",
              "      <td>Zimbabwe</td>\n",
              "      <td>Meteorological year</td>\n",
              "      <td>2019</td>\n",
              "      <td>°C</td>\n",
              "      <td>0.925</td>\n",
              "      <td>246</td>\n",
              "      <td>12</td>\n",
              "    </tr>\n",
              "    <tr>\n",
              "      <th>238048</th>\n",
              "      <td>Zimbabwe</td>\n",
              "      <td>Meteorological year</td>\n",
              "      <td>2020</td>\n",
              "      <td>°C</td>\n",
              "      <td>0.389</td>\n",
              "      <td>246</td>\n",
              "      <td>12</td>\n",
              "    </tr>\n",
              "    <tr>\n",
              "      <th>238049</th>\n",
              "      <td>Zimbabwe</td>\n",
              "      <td>Meteorological year</td>\n",
              "      <td>2021</td>\n",
              "      <td>°C</td>\n",
              "      <td>-0.125</td>\n",
              "      <td>246</td>\n",
              "      <td>12</td>\n",
              "    </tr>\n",
              "    <tr>\n",
              "      <th>238050</th>\n",
              "      <td>Zimbabwe</td>\n",
              "      <td>Meteorological year</td>\n",
              "      <td>2022</td>\n",
              "      <td>°C</td>\n",
              "      <td>-0.490</td>\n",
              "      <td>246</td>\n",
              "      <td>12</td>\n",
              "    </tr>\n",
              "  </tbody>\n",
              "</table>\n",
              "<p>229855 rows × 7 columns</p>\n",
              "</div>"
            ],
            "text/plain": [
              "               Area               Months  Year Unit  Value  Area Encoded  \\\n",
              "0       Afghanistan              January  1961   °C  0.756             0   \n",
              "1       Afghanistan              January  1962   °C  0.030             0   \n",
              "2       Afghanistan              January  1963   °C  2.716             0   \n",
              "3       Afghanistan              January  1964   °C -5.260             0   \n",
              "4       Afghanistan              January  1965   °C  1.834             0   \n",
              "...             ...                  ...   ...  ...    ...           ...   \n",
              "238046     Zimbabwe  Meteorological year  2018   °C  0.453           246   \n",
              "238047     Zimbabwe  Meteorological year  2019   °C  0.925           246   \n",
              "238048     Zimbabwe  Meteorological year  2020   °C  0.389           246   \n",
              "238049     Zimbabwe  Meteorological year  2021   °C -0.125           246   \n",
              "238050     Zimbabwe  Meteorological year  2022   °C -0.490           246   \n",
              "\n",
              "        Month Encoded  \n",
              "0                   5  \n",
              "1                   5  \n",
              "2                   5  \n",
              "3                   5  \n",
              "4                   5  \n",
              "...               ...  \n",
              "238046             12  \n",
              "238047             12  \n",
              "238048             12  \n",
              "238049             12  \n",
              "238050             12  \n",
              "\n",
              "[229855 rows x 7 columns]"
            ]
          },
          "execution_count": 954,
          "metadata": {},
          "output_type": "execute_result"
        }
      ],
      "source": [
        "from collections import defaultdict\n",
        "from sklearn.preprocessing import LabelEncoder\n",
        "\n",
        "temp_copy = temp_change_df.copy()\n",
        "\n",
        "\n",
        "label_encoder = LabelEncoder()\n",
        "temp_copy['Area Encoded'] = label_encoder.fit_transform(temp_copy['Area'])\n",
        "temp_copy['Month Encoded'] = label_encoder.fit_transform(temp_copy['Months'])\n",
        "temp_copy"
      ]
    },
    {
      "cell_type": "markdown",
      "metadata": {
        "id": "QOZ3KnxR7QCs"
      },
      "source": [
        "# **Stage 4**\n",
        "Choose and train Estimator."
      ]
    },
    {
      "attachments": {},
      "cell_type": "markdown",
      "metadata": {},
      "source": [
        "In order to choose an estimator, I will be following the documentation and criteria found in the suggested [Scikit analysis](https://scikit-learn.org/stable/tutorial/machine_learning_map/index.html).\n",
        "\n",
        "By analysing the temperature changes dataset, we know that:\n",
        "- It has more than 50 samples\n",
        "- No category needs to be predicted but a quantity\n",
        "- There are more than 100k samples (> 238k)\n",
        "- And only few features are important\n",
        "\n",
        "For that reason, I should be using a Lasso regression model.\n",
        "\n",
        "\n",
        "The target for this "
      ]
    },
    {
      "cell_type": "code",
      "execution_count": 955,
      "metadata": {},
      "outputs": [
        {
          "name": "stdout",
          "output_type": "stream",
          "text": [
            "(68957, 3)\n",
            "(160898, 3)\n",
            "(68957,)\n",
            "(160898,)\n"
          ]
        }
      ],
      "source": [
        "# Defining target and features\n",
        "\n",
        "# Target\n",
        "Y = temp_copy['Value']\n",
        "\n",
        "# Features\n",
        "X = temp_copy[['Area Encoded', 'Year', 'Month Encoded']]\n",
        "x_train, x_test, y_train, y_test = train_test_split(X, Y, test_size=0.30, random_state=42)\n",
        "\n",
        "# Checking the trained and tested data consistancy\n",
        "print(x_test.shape)\n",
        "print(x_train.shape)\n",
        "print(y_test.shape)\n",
        "print(y_train.shape)"
      ]
    },
    {
      "cell_type": "code",
      "execution_count": 956,
      "metadata": {},
      "outputs": [
        {
          "name": "stdout",
          "output_type": "stream",
          "text": [
            "R-squared score: 0.2040572834874257\n"
          ]
        }
      ],
      "source": [
        "# Linear Regression:\n",
        "\n",
        "feature_names = temp_copy.columns.tolist()\n",
        "\n",
        "# Scale the features using the StandardScaler\n",
        "scaler = StandardScaler()\n",
        "X_linear_train = scaler.fit_transform(x_train)\n",
        "X_linear_test = scaler.transform(x_test)\n",
        "\n",
        "# Train a linear regression model on the training set\n",
        "linear_model = LinearRegression()\n",
        "linear_model.fit(X_linear_train, y_train)\n",
        "\n",
        "# Evaluate the model on the testing set\n",
        "score = linear_model.score(X_linear_test, y_test)\n",
        "print('R-squared score:', score)\n",
        "\n"
      ]
    },
    {
      "cell_type": "code",
      "execution_count": 957,
      "metadata": {},
      "outputs": [
        {
          "name": "stdout",
          "output_type": "stream",
          "text": [
            "R-squared score: 0.20365502474897212\n",
            "Mean Squared Error: 0.8793483441034999\n"
          ]
        }
      ],
      "source": [
        "# Lasso Regression\n",
        "\n",
        "\n",
        "# Build a Lasso linear regression model\n",
        "lasso_model = Lasso(alpha=0.1)\n",
        "lasso_model.fit(x_train, y_train)\n",
        "\n",
        "# Make predictions on the test data\n",
        "y_pred = lasso_model.predict(x_test)\n",
        "\n",
        "# Evaluate the performance of the model using mean squared error\n",
        "mse = mean_squared_error(y_test, y_pred)\n",
        "score = lasso_model.score(x_test, y_test)\n",
        "print('R-squared score:', score)\n",
        "print(\"Mean Squared Error:\", mse)"
      ]
    },
    {
      "cell_type": "code",
      "execution_count": 958,
      "metadata": {},
      "outputs": [
        {
          "name": "stdout",
          "output_type": "stream",
          "text": [
            "R-squared score: 0.20392469190965956\n"
          ]
        }
      ],
      "source": [
        "# ElasticNet Regression\n",
        "\n",
        "# Instantiate an ElasticNet object with alpha=0.1 and l1_ratio=0.5\n",
        "elastic_net = ElasticNet(alpha=0.1, l1_ratio=0.5)\n",
        "\n",
        "# Fit the ElasticNet object to the training data\n",
        "elastic_net.fit(x_train, y_train)\n",
        "\n",
        "# Make predictions on the test data\n",
        "y_pred = elastic_net.predict(x_test)\n",
        "\n",
        "score = elastic_net.score(x_test, y_test)\n",
        "print('R-squared score:', score)"
      ]
    },
    {
      "cell_type": "code",
      "execution_count": 959,
      "metadata": {},
      "outputs": [
        {
          "name": "stdout",
          "output_type": "stream",
          "text": [
            "R-squared score: 0.20\n"
          ]
        }
      ],
      "source": [
        "# Create a Ridge regression model with alpha=1\n",
        "ridge_model = Ridge(alpha=1)\n",
        "\n",
        "# Train the model on the training data\n",
        "ridge_model.fit(x_train, y_train)\n",
        "\n",
        "# Use the model to make predictions on the testing data\n",
        "y_pred = ridge_model.predict(x_test)\n",
        "\n",
        "# Evaluate the model using mean squared error and R-squared score\n",
        "mse = mean_squared_error(y_test, y_pred)\n",
        "r2 = r2_score(y_test, y_pred)\n",
        "\n",
        "# Print the results\n",
        "print(\"R-squared score: {:.2f}\".format(r2))"
      ]
    },
    {
      "cell_type": "markdown",
      "metadata": {
        "id": "ZIz-Ez-sgsQe"
      },
      "source": [
        "# **Stage 5**\n",
        "Evaluate your model and revisit 4...repeat.."
      ]
    },
    {
      "attachments": {},
      "cell_type": "markdown",
      "metadata": {},
      "source": [
        "For all the regression models tested above, the R-squared score hasn't reached 20%.\n",
        "\n",
        "Let's see how it looks visually if compared to the original data:"
      ]
    },
    {
      "cell_type": "code",
      "execution_count": 960,
      "metadata": {},
      "outputs": [],
      "source": [
        "def plot_data(original_df, predicted_df):\n",
        "    # Add a new column \n",
        "    original_df['Predicted temp'] = predicted_df\n",
        "\n",
        "    df_yearly = original_df.groupby(['Year'])['Value', 'Predicted temp'].mean().reset_index()\n",
        "\n",
        "    # Plot temperature data as a line plot\n",
        "    plt.plot(df_yearly['Year'], df_yearly['Value'], marker='o')\n",
        "    plt.plot(df_yearly['Year'], df_yearly['Predicted temp'], marker='o')\n",
        "\n",
        "    plt.show()"
      ]
    },
    {
      "cell_type": "code",
      "execution_count": 961,
      "metadata": {},
      "outputs": [
        {
          "name": "stderr",
          "output_type": "stream",
          "text": [
            "/var/folders/w3/5k38nc1d35zbfg1ff2_nj_rh0000gn/T/ipykernel_44987/4128149521.py:5: FutureWarning: Indexing with multiple keys (implicitly converted to a tuple of keys) will be deprecated, use a list instead.\n",
            "  df_yearly = original_df.groupby(['Year'])['Value', 'Predicted temp'].mean().reset_index()\n"
          ]
        },
        {
          "data": {
            "image/png": "[encoded data removed]",
            "text/plain": [
              "<Figure size 432x288 with 1 Axes>"
            ]
          },
          "metadata": {
            "needs_background": "light"
          },
          "output_type": "display_data"
        }
      ],
      "source": [
        "# Lasso Model prediction\n",
        "\n",
        "lasso_pred = lasso_model.predict(X)\n",
        "\n",
        "plot_data(temp_copy, lasso_pred)"
      ]
    },
    {
      "cell_type": "code",
      "execution_count": 962,
      "metadata": {},
      "outputs": [
        {
          "name": "stderr",
          "output_type": "stream",
          "text": [
            "/var/folders/w3/5k38nc1d35zbfg1ff2_nj_rh0000gn/T/ipykernel_44987/4128149521.py:5: FutureWarning: Indexing with multiple keys (implicitly converted to a tuple of keys) will be deprecated, use a list instead.\n",
            "  df_yearly = original_df.groupby(['Year'])['Value', 'Predicted temp'].mean().reset_index()\n"
          ]
        },
        {
          "data": {
            "image/png": "[encoded data removed]",
            "text/plain": [
              "<Figure size 432x288 with 1 Axes>"
            ]
          },
          "metadata": {
            "needs_background": "light"
          },
          "output_type": "display_data"
        }
      ],
      "source": [
        "# # ElasticNet Regression Model prediction\n",
        "\n",
        "elastic_pred = elastic_net.predict(X)\n",
        "\n",
        "plot_data(temp_copy, elastic_pred)"
      ]
    },
    {
      "cell_type": "code",
      "execution_count": 963,
      "metadata": {},
      "outputs": [
        {
          "name": "stderr",
          "output_type": "stream",
          "text": [
            "/usr/local/lib/python3.9/site-packages/sklearn/base.py:432: UserWarning: X has feature names, but LinearRegression was fitted without feature names\n",
            "  warnings.warn(\n",
            "/var/folders/w3/5k38nc1d35zbfg1ff2_nj_rh0000gn/T/ipykernel_44987/4128149521.py:5: FutureWarning: Indexing with multiple keys (implicitly converted to a tuple of keys) will be deprecated, use a list instead.\n",
            "  df_yearly = original_df.groupby(['Year'])['Value', 'Predicted temp'].mean().reset_index()\n"
          ]
        },
        {
          "data": {
            "image/png": "[encoded data removed]",
            "text/plain": [
              "<Figure size 432x288 with 1 Axes>"
            ]
          },
          "metadata": {
            "needs_background": "light"
          },
          "output_type": "display_data"
        }
      ],
      "source": [
        "# Linear Regression Model Prediction\n",
        "\n",
        "linear_pred = linear_model.predict(X)\n",
        "\n",
        "plot_data(temp_change_df, linear_pred)"
      ]
    },
    {
      "cell_type": "code",
      "execution_count": 964,
      "metadata": {},
      "outputs": [
        {
          "name": "stderr",
          "output_type": "stream",
          "text": [
            "/var/folders/w3/5k38nc1d35zbfg1ff2_nj_rh0000gn/T/ipykernel_44987/4128149521.py:5: FutureWarning: Indexing with multiple keys (implicitly converted to a tuple of keys) will be deprecated, use a list instead.\n",
            "  df_yearly = original_df.groupby(['Year'])['Value', 'Predicted temp'].mean().reset_index()\n"
          ]
        },
        {
          "data": {
            "image/png": "[encoded data removed]",
            "text/plain": [
              "<Figure size 432x288 with 1 Axes>"
            ]
          },
          "metadata": {
            "needs_background": "light"
          },
          "output_type": "display_data"
        }
      ],
      "source": [
        "# Ridge regression model prediction\n",
        "\n",
        "ridge_pred = ridge_model.predict(X)\n",
        "\n",
        "plot_data(temp_copy, ridge_pred)"
      ]
    },
    {
      "attachments": {},
      "cell_type": "markdown",
      "metadata": {
        "id": "4APZXYxS7Yef"
      },
      "source": [
        "# **Stage 6**\n",
        "\n",
        "Regression models such as Lasso and ElasticNet successfully followed the original data growth tendency. The Linear Regression model however, wasn't able to follow the tendency over the years. \n",
        "\n",
        "Based on the trend line predicted by the models it is possible to forecast how temperature tend to increase over the next years.\n",
        "\n",
        "However the data is limited as it only takes into consideration the year and temperature change on land over the years.\n",
        "\n",
        "FOA's data is a renowed source but even after merging additional data (available in IGNORE_Mylla_Castro_Temp_and_Emissions.ipynb) that could correlate with temperature changes variations such as CO2 emissions, the models tested above couldn't follow the original data even though it was able to follow the tendency.\n",
        "\n",
        "I left the additional **IGNORE_Mylla_Castro_Temp_and_Emissions.ipynb** in this folder which takes into consideration FOA's data on CO2 emissions as it was a valuable learning experience after all."
      ]
    },
    {
      "cell_type": "markdown",
      "metadata": {
        "id": "joNaHiMMhO6V"
      },
      "source": []
    }
  ],
  "metadata": {
    "colab": {
      "provenance": []
    },
    "interpreter": {
      "hash": "31f2aee4e71d21fbe5cf8b01ff0e069b9275f58929596ceb00d14d90e3e16cd6"
    },
    "kernelspec": {
      "display_name": "Python 3.6.9 64-bit",
      "language": "python",
      "name": "python3"
    },
    "language_info": {
      "codemirror_mode": {
        "name": "ipython",
        "version": 3
      },
      "file_extension": ".py",
      "mimetype": "text/x-python",
      "name": "python",
      "nbconvert_exporter": "python",
      "pygments_lexer": "ipython3",
      "version": "3.9.5"
    },
    "orig_nbformat": 4
  },
  "nbformat": 4,
  "nbformat_minor": 0
}
