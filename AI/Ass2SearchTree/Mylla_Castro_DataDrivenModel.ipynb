{
  "cells": [
    {
      "attachments": {},
      "cell_type": "markdown",
      "metadata": {},
      "source": [
        "> **Student Name:** Mylla Pereira de Castro\n",
        ">\n",
        "> **Student Number:** T00244395\n",
        "\n",
        "\n"
      ]
    },
    {
      "attachments": {},
      "cell_type": "markdown",
      "metadata": {
        "id": "9f8rIb1E6dQS"
      },
      "source": [
        "# **Stage 1**\n",
        "***Describe Data***"
      ]
    },
    {
      "attachments": {},
      "cell_type": "markdown",
      "metadata": {},
      "source": [
        "The dataset used as part of this assignment contains global surface temperature changes collected monthly from 1961 to 2022 and currently available in FAOSTAT website. FAO (Food and Agriculture Organization) is an United Nation's agency and collects and distributes data with the goal of defeating global hunger.\n",
        "\n",
        "The temperature change statistics data is updated annually with data sourced from GISTEMP data, the Global Surface Temperature Change data distributed by National Aeronaitics and Space Administration Goddard Institue for Space Studies (NASA-GISS).\n",
        "\n",
        "This dataset contains the following columns:\n",
        "\n",
        ">**Area Code:** The numerical code of the area column (integer)\n",
        ">\n",
        ">**Area:** Countries and territorries (object)\n",
        ">\n",
        ">**Months Code:** The numerical code of months column (integer)\n",
        ">\n",
        ">**Months:** Months, seasons, Metereological year (object)\n",
        ">\n",
        ">**Element Code:** The numerical code of element column (integer)\n",
        ">\n",
        ">**Element:** \"Temperature change\" or \"Standard Deviation\" (object)\n",
        ">\n",
        ">**Unit:** Celsius degree °C (object)\n",
        ">\n",
        ">**Y1961**\n",
        ">[...]\n",
        ">**Y2022:** Columns with numerical representation of Element from 1961 to 2019\n",
        "\n",
        "\n",
        "Let's exam the data a bit closer!"
      ]
    },
    {
      "cell_type": "code",
      "execution_count": 102,
      "metadata": {
        "id": "uY1dExPehLAq"
      },
      "outputs": [
        {
          "data": {
            "text/plain": [
              "<bound method DataFrame.info of        Domain Code                      Domain  Area Code (M49)         Area  \\\n",
              "0               ET  Temperature change on land                4  Afghanistan   \n",
              "1               ET  Temperature change on land                4  Afghanistan   \n",
              "2               ET  Temperature change on land                4  Afghanistan   \n",
              "3               ET  Temperature change on land                4  Afghanistan   \n",
              "4               ET  Temperature change on land                4  Afghanistan   \n",
              "...            ...                         ...              ...          ...   \n",
              "238046          ET  Temperature change on land              716     Zimbabwe   \n",
              "238047          ET  Temperature change on land              716     Zimbabwe   \n",
              "238048          ET  Temperature change on land              716     Zimbabwe   \n",
              "238049          ET  Temperature change on land              716     Zimbabwe   \n",
              "238050          ET  Temperature change on land              716     Zimbabwe   \n",
              "\n",
              "        Element Code             Element  Months Code               Months  \\\n",
              "0               7271  Temperature change         7001              January   \n",
              "1               7271  Temperature change         7001              January   \n",
              "2               7271  Temperature change         7001              January   \n",
              "3               7271  Temperature change         7001              January   \n",
              "4               7271  Temperature change         7001              January   \n",
              "...              ...                 ...          ...                  ...   \n",
              "238046          7271  Temperature change         7020  Meteorological year   \n",
              "238047          7271  Temperature change         7020  Meteorological year   \n",
              "238048          7271  Temperature change         7020  Meteorological year   \n",
              "238049          7271  Temperature change         7020  Meteorological year   \n",
              "238050          7271  Temperature change         7020  Meteorological year   \n",
              "\n",
              "        Year Code  Year Unit  Value Flag Flag Description  \n",
              "0            1961  1961   °C  0.756    E  Estimated value  \n",
              "1            1962  1962   °C  0.030    E  Estimated value  \n",
              "2            1963  1963   °C  2.716    E  Estimated value  \n",
              "3            1964  1964   °C -5.260    E  Estimated value  \n",
              "4            1965  1965   °C  1.834    E  Estimated value  \n",
              "...           ...   ...  ...    ...  ...              ...  \n",
              "238046       2018  2018   °C  0.453    E  Estimated value  \n",
              "238047       2019  2019   °C  0.925    E  Estimated value  \n",
              "238048       2020  2020   °C  0.389    E  Estimated value  \n",
              "238049       2021  2021   °C -0.125    E  Estimated value  \n",
              "238050       2022  2022   °C -0.490    E  Estimated value  \n",
              "\n",
              "[238051 rows x 14 columns]>"
            ]
          },
          "execution_count": 102,
          "metadata": {},
          "output_type": "execute_result"
        }
      ],
      "source": [
        "# Importing libraries (make sure these libraries are installed in the runtime)\n",
        "import pandas as pd\n",
        "import seaborn as sns\n",
        "import matplotlib.pyplot as plt\n",
        "\n",
        "# Importing the data\n",
        "temp_change_path = \"./FAOSTAT_data_en_4-28-2023.csv\"\n",
        "temp_change_df = pd.read_csv(temp_change_path)\n",
        "\n",
        "\n",
        "# Dataframe shape\n",
        "temp_change_df.shape\n",
        "\n",
        "\"\"\"\n",
        "(238051, 14)\n",
        "\"\"\"\n",
        "\n",
        "# Dataframe info\n",
        "temp_change_df.info"
      ]
    },
    {
      "cell_type": "code",
      "execution_count": 103,
      "metadata": {},
      "outputs": [
        {
          "data": {
            "image/png": "[encoded data removed]",
            "text/plain": [
              "<Figure size 432x288 with 1 Axes>"
            ]
          },
          "metadata": {
            "needs_background": "light"
          },
          "output_type": "display_data"
        }
      ],
      "source": [
        "# Plotting the data to visualise the temperature change over the years in the world\n",
        "\n",
        "# Group the data by year and calculate the mean temperature for each year\n",
        "df_yearly = temp_change_df.groupby(['Year'])['Value'].mean().reset_index()\n",
        "\n",
        "# Plot temperature data as a line plot\n",
        "plt.plot(df_yearly['Year'], df_yearly['Value'], marker='o')\n",
        "\n",
        "# Set the plot title and axis labels\n",
        "plt.title('World Yearly Average Temperature Change')\n",
        "plt.xlabel('Year')\n",
        "plt.ylabel('Temperature (unit)')\n",
        "\n",
        "# Display the plot\n",
        "plt.show()"
      ]
    },
    {
      "cell_type": "code",
      "execution_count": 104,
      "metadata": {},
      "outputs": [
        {
          "name": "stdout",
          "output_type": "stream",
          "text": [
            "Average of temperature change over the years 0.509437575703311\n"
          ]
        },
        {
          "data": {
            "text/plain": [
              "Area\n",
              "Luxembourg                         1.584657\n",
              "Serbia                             1.552727\n",
              "Estonia                            1.549899\n",
              "Belgium                            1.525731\n",
              "Russian Federation                 1.514425\n",
              "                                     ...   \n",
              "Pacific Islands Trust Territory    0.054901\n",
              "Falkland Islands (Malvinas)        0.021628\n",
              "Yugoslav SFR                       0.019567\n",
              "Nauru                             -0.024839\n",
              "Pitcairn                          -0.098580\n",
              "Name: Value, Length: 247, dtype: float64"
            ]
          },
          "execution_count": 104,
          "metadata": {},
          "output_type": "execute_result"
        }
      ],
      "source": [
        "# Let's get the numeric average of temperature increase in the world\n",
        "print(f'Average of temperature change over the years {df_yearly[\"Value\"].mean()}')\n",
        "\n",
        "# And show countries with the highest and lowest temperature change mean since 1961\n",
        "temp_change_df.groupby(['Area'])['Value'].mean().sort_values(ascending=False)\n"
      ]
    },
    {
      "cell_type": "code",
      "execution_count": 105,
      "metadata": {},
      "outputs": [
        {
          "name": "stderr",
          "output_type": "stream",
          "text": [
            "/var/folders/w3/5k38nc1d35zbfg1ff2_nj_rh0000gn/T/ipykernel_76742/2780737990.py:2: FutureWarning: The default value of numeric_only in DataFrame.corr is deprecated. In a future version, it will default to False. Select only valid columns or specify the value of numeric_only to silence this warning.\n",
            "  sns.heatmap(temp_change_df.corr(), annot=True)\n"
          ]
        },
        {
          "data": {
            "image/png": "[encoded data removed]",
            "text/plain": [
              "<Figure size 432x288 with 2 Axes>"
            ]
          },
          "metadata": {
            "needs_background": "light"
          },
          "output_type": "display_data"
        }
      ],
      "source": [
        "# Correlating data features\n",
        "sns.heatmap(temp_change_df.corr(), annot=True)\n",
        "plt.show()"
      ]
    },
    {
      "attachments": {},
      "cell_type": "markdown",
      "metadata": {},
      "source": [
        "The Value and Year columns are high correlated and the main ones we'll be using here"
      ]
    },
    {
      "cell_type": "markdown",
      "metadata": {
        "id": "ZYY0zY7l60al"
      },
      "source": [
        "# **Stage 2**\n",
        "\n",
        "Justification for the property that you would like the model to predict."
      ]
    },
    {
      "cell_type": "code",
      "execution_count": null,
      "metadata": {
        "id": "xnK73v7R688t"
      },
      "outputs": [],
      "source": []
    },
    {
      "cell_type": "markdown",
      "metadata": {
        "id": "OeanY09K69Le"
      },
      "source": [
        "# **Stage 3**\n",
        "\n",
        "Cleaning the data, linking datasets etc.. \n",
        "\n"
      ]
    },
    {
      "cell_type": "code",
      "execution_count": 106,
      "metadata": {
        "id": "XMIxIidZhMGl"
      },
      "outputs": [
        {
          "data": {
            "text/plain": [
              "Area        0\n",
              "Year        0\n",
              "Unit        0\n",
              "Value    8196\n",
              "dtype: int64"
            ]
          },
          "execution_count": 106,
          "metadata": {},
          "output_type": "execute_result"
        }
      ],
      "source": [
        "# Removing irrelevant columns\n",
        "temp_change_df.drop(['Domain Code', 'Domain', 'Area Code (M49)', 'Element Code', 'Months Code', 'Months', 'Year Code', 'Flag', 'Flag Description', 'Element'], axis=1, inplace=True)\n",
        "\n",
        "# Removing duplicates\n",
        "temp_change_df.drop_duplicates()\n",
        "\n",
        "# Number of nulls in each column\n",
        "temp_change_df.isnull().sum()\n",
        "\n"
      ]
    },
    {
      "cell_type": "code",
      "execution_count": 107,
      "metadata": {},
      "outputs": [
        {
          "name": "stdout",
          "output_type": "stream",
          "text": [
            "True\n"
          ]
        }
      ],
      "source": [
        "# Let's see if all rows \"Unit\" is in Celsius\n",
        "print((temp_change_df['Unit'] == '°C').sum() == temp_change_df.shape[0])"
      ]
    },
    {
      "cell_type": "code",
      "execution_count": 108,
      "metadata": {},
      "outputs": [
        {
          "name": "stdout",
          "output_type": "stream",
          "text": [
            "Average of temperature change over the years 0.509437575703311\n",
            "Average of temperature change over the years 0.509437575703311\n"
          ]
        }
      ],
      "source": [
        "print(f'Average of temperature change over the years {df_yearly[\"Value\"].mean()}')\n",
        "\n",
        "# Now, since there are 8196 rows without a \"Value\" column is less than 5% of the data, I will drop these and see if there's any significant change in the world's temperature change average\n",
        "temp_change_df = temp_change_df.dropna()\n",
        "\n",
        "print(f'Average of temperature change over the years {df_yearly[\"Value\"].mean()}')\n",
        "\n",
        "# The overall mean hasn't changed, we should be good to proceed"
      ]
    },
    {
      "cell_type": "markdown",
      "metadata": {
        "id": "QOZ3KnxR7QCs"
      },
      "source": [
        "# **Stage 4**\n",
        "Choose and train Estimator."
      ]
    },
    {
      "attachments": {},
      "cell_type": "markdown",
      "metadata": {},
      "source": [
        "In order to choose an estimator, I will be following the documentation and criteria in resource below:\n",
        "https://scikit-learn.org/stable/tutorial/machine_learning_map/index.html\n",
        "\n",
        "By analysing the temperature changes dataset, we know that:\n",
        "- It had more than 50 samples\n",
        "- No category needs to be predicted but a quantity\n",
        "- There are more than 100k samples (> 238k)\n",
        "- And only a few features are important (Area and Year)\n",
        "\n",
        "For that reason, I should be using a linear regression model."
      ]
    },
    {
      "cell_type": "markdown",
      "metadata": {
        "id": "ZIz-Ez-sgsQe"
      },
      "source": [
        "# **Stage 5**\n",
        "Evaluate your model and revisit 4...repeat.."
      ]
    },
    {
      "cell_type": "code",
      "execution_count": null,
      "metadata": {
        "id": "tUJT-BYqhNie"
      },
      "outputs": [],
      "source": []
    },
    {
      "cell_type": "markdown",
      "metadata": {
        "id": "4APZXYxS7Yef"
      },
      "source": [
        "# **Stage 6**\n",
        "***Present results and Conclusions***\n",
        "\n"
      ]
    },
    {
      "cell_type": "markdown",
      "metadata": {
        "id": "joNaHiMMhO6V"
      },
      "source": []
    }
  ],
  "metadata": {
    "colab": {
      "provenance": []
    },
    "interpreter": {
      "hash": "31f2aee4e71d21fbe5cf8b01ff0e069b9275f58929596ceb00d14d90e3e16cd6"
    },
    "kernelspec": {
      "display_name": "Python 3.6.9 64-bit",
      "language": "python",
      "name": "python3"
    },
    "language_info": {
      "codemirror_mode": {
        "name": "ipython",
        "version": 3
      },
      "file_extension": ".py",
      "mimetype": "text/x-python",
      "name": "python",
      "nbconvert_exporter": "python",
      "pygments_lexer": "ipython3",
      "version": "3.9.5"
    },
    "orig_nbformat": 4
  },
  "nbformat": 4,
  "nbformat_minor": 0
}
